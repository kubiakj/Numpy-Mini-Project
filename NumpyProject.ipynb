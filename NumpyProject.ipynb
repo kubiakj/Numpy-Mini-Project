{
 "cells": [
  {
   "cell_type": "markdown",
   "metadata": {},
   "source": [
    "# Mini Project"
   ]
  },
  {
   "cell_type": "code",
   "execution_count": 2,
   "metadata": {},
   "outputs": [],
   "source": [
    "import numpy as np"
   ]
  },
  {
   "cell_type": "markdown",
   "metadata": {},
   "source": [
    "# Step 1 : Read the Data!"
   ]
  },
  {
   "cell_type": "code",
   "execution_count": 4,
   "metadata": {},
   "outputs": [
    {
     "name": "stdout",
     "output_type": "stream",
     "text": [
      "\n",
      "Data: \n",
      "\n",
      " [[39. 13.  4. ...  0. 40.  0.]\n",
      " [50. 13.  4. ...  0. 13.  0.]\n",
      " [38.  9.  4. ...  0. 40.  0.]\n",
      " ...\n",
      " [48. 13.  4. ...  0. 58.  1.]\n",
      " [40. 10.  4. ...  0. 40.  0.]\n",
      " [39. 13.  4. ...  0. 50.  1.]]\n"
     ]
    }
   ],
   "source": [
    "# Loading the data\n",
    "data = np.genfromtxt('makeSenseOfCensus.csv', delimiter=\",\", skip_header=1)\n",
    "\n",
    "# printing the data\n",
    "\n",
    "print(\"\\nData: \\n\\n\", data)"
   ]
  },
  {
   "cell_type": "code",
   "execution_count": 5,
   "metadata": {},
   "outputs": [
    {
     "name": "stdout",
     "output_type": "stream",
     "text": [
      "\n",
      " Type of data: \n",
      "\n",
      " <class 'numpy.ndarray'>\n"
     ]
    }
   ],
   "source": [
    "# Printing the Data Type of the data\n",
    "print(\"\\n Type of data: \\n\\n\",type(data))"
   ]
  },
  {
   "cell_type": "markdown",
   "metadata": {},
   "source": [
    "# Step 2 : Append the Data\n",
    "## Append 'new_record' (given) to 'data' using \"np.concatenate()\""
   ]
  },
  {
   "cell_type": "code",
   "execution_count": 6,
   "metadata": {},
   "outputs": [
    {
     "name": "stdout",
     "output_type": "stream",
     "text": [
      "[[39. 13.  4. ...  0. 40.  0.]\n",
      " [50. 13.  4. ...  0. 13.  0.]\n",
      " [38.  9.  4. ...  0. 40.  0.]\n",
      " ...\n",
      " [40. 10.  4. ...  0. 40.  0.]\n",
      " [39. 13.  4. ...  0. 50.  1.]\n",
      " [50.  9.  4. ...  0. 40.  0.]]\n"
     ]
    }
   ],
   "source": [
    "new_record = [[50,9,4,1,0,0,40,0]]\n",
    "new_data = np.concatenate((data,new_record),axis=0)\n",
    "print(new_data)"
   ]
  },
  {
   "cell_type": "code",
   "execution_count": 7,
   "metadata": {},
   "outputs": [
    {
     "data": {
      "text/plain": [
       "array([39., 50., 38., ..., 40., 39., 50.])"
      ]
     },
     "execution_count": 7,
     "metadata": {},
     "output_type": "execute_result"
    }
   ],
   "source": [
    "# Create a new array called 'age' by taking only age column(age is the column with index 0) of 'census' array.\n",
    "age = new_data[:,0]\n",
    "age"
   ]
  },
  {
   "cell_type": "code",
   "execution_count": 8,
   "metadata": {},
   "outputs": [
    {
     "name": "stdout",
     "output_type": "stream",
     "text": [
      "Maximum age  90.0\n"
     ]
    }
   ],
   "source": [
    "# Find the max age and store it in a variable called 'max_age'.\n",
    "max_age = age.max()\n",
    "print('Maximum age ',max_age)"
   ]
  },
  {
   "cell_type": "code",
   "execution_count": 10,
   "metadata": {},
   "outputs": [
    {
     "name": "stdout",
     "output_type": "stream",
     "text": [
      "Minimum age  17.0\n"
     ]
    }
   ],
   "source": [
    "#Find the min age and store it in a variable called 'min_age'.\n",
    "min_age = age.min()\n",
    "print('Minimum age ',min_age)"
   ]
  },
  {
   "cell_type": "code",
   "execution_count": 11,
   "metadata": {},
   "outputs": [
    {
     "name": "stdout",
     "output_type": "stream",
     "text": [
      "Average age  38.06293706293706\n"
     ]
    }
   ],
   "source": [
    "# Find the mean of the age and store it in a variable called 'age_mean'.\n",
    "age_mean = age.mean()\n",
    "print('Average age ',age_mean)"
   ]
  },
  {
   "cell_type": "code",
   "execution_count": 12,
   "metadata": {},
   "outputs": [
    {
     "name": "stdout",
     "output_type": "stream",
     "text": [
      "Standard Deviation of age  13.341478176165857\n"
     ]
    }
   ],
   "source": [
    "# Find the standard deviation of the age and store it in a variable called 'age_std'\n",
    "age_std = age.std()\n",
    "print('Standard Deviation of age ',age_std)"
   ]
  },
  {
   "cell_type": "markdown",
   "metadata": {},
   "source": [
    "# Step 4: Let's check the country's race distribution to identify the minorities"
   ]
  },
  {
   "cell_type": "code",
   "execution_count": 13,
   "metadata": {},
   "outputs": [],
   "source": [
    "race = new_data[:,2]\n",
    "race_0 = race[race==0]\n",
    "race_1 = race[race==1]\n",
    "race_2 = race[race==2]\n",
    "race_3 = race[race==3]\n",
    "race_4 = race[race==4]"
   ]
  },
  {
   "cell_type": "code",
   "execution_count": 15,
   "metadata": {},
   "outputs": [
    {
     "name": "stdout",
     "output_type": "stream",
     "text": [
      "10 27 110 6 848\n"
     ]
    }
   ],
   "source": [
    "# Store the length of the above created arrays in 'len_0', 'len_1','len_2', 'len_3' and 'len_4' respectively\n",
    "len_0 = len(race_0)\n",
    "len_1 = len(race_1)\n",
    "len_2 = len(race_2)\n",
    "len_3 = len(race_3)\n",
    "len_4 = len(race_4)\n",
    "print(len_0, len_1, len_2, len_3, len_4)"
   ]
  },
  {
   "cell_type": "code",
   "execution_count": 16,
   "metadata": {},
   "outputs": [
    {
     "name": "stdout",
     "output_type": "stream",
     "text": [
      "Minimum no citizens in a race 6\n"
     ]
    }
   ],
   "source": [
    "# Find out which is the race with the minimum no. of citizens\n",
    "lenl = [len_0,len_1,len_2,len_3,len_4]\n",
    "len_arr = np.array(lenl)\n",
    "print('Minimum no citizens in a race',len_arr.min())"
   ]
  },
  {
   "cell_type": "code",
   "execution_count": 17,
   "metadata": {},
   "outputs": [
    {
     "name": "stdout",
     "output_type": "stream",
     "text": [
      "6\n"
     ]
    }
   ],
   "source": [
    "# Store the number associated with the minority race in a variable called 'minority_race'\n",
    "minority_race = len_arr.min()\n",
    "print(minority_race)"
   ]
  },
  {
   "cell_type": "code",
   "execution_count": 19,
   "metadata": {},
   "outputs": [
    {
     "name": "stdout",
     "output_type": "stream",
     "text": [
      "Minority race:  3\n"
     ]
    }
   ],
   "source": [
    "if minority_race == len_0:\n",
    "  minority_race = 0\n",
    "elif minority_race == len_1:\n",
    "  minority_race = 1\n",
    "elif minority_race == len_2:\n",
    "  minority_race = 2\n",
    "elif minority_race == len_3:\n",
    "  minority_race = 3\n",
    "elif minority_race == len_4:\n",
    "  minority_race = 4\n",
    "print('Minority race: ',minority_race)"
   ]
  },
  {
   "cell_type": "markdown",
   "metadata": {},
   "source": [
    "# Step 5: As per govt. records citizens above 60 should not work more than 25 hours a week. Let us check if the policy is in place"
   ]
  },
  {
   "cell_type": "code",
   "execution_count": 21,
   "metadata": {},
   "outputs": [
    {
     "name": "stdout",
     "output_type": "stream",
     "text": [
      "61\n"
     ]
    }
   ],
   "source": [
    "# Create a new subset array called 'senior_citizens' by filtering 'census' according to age>60 \n",
    "senior_citizens = age[age>60]\n",
    "print(len(senior_citizens))"
   ]
  },
  {
   "cell_type": "code",
   "execution_count": 22,
   "metadata": {},
   "outputs": [
    {
     "name": "stdout",
     "output_type": "stream",
     "text": [
      "Total Working hours of senior citizens: 1917.0\n"
     ]
    }
   ],
   "source": [
    "# Add all the working hours(working hours is the column with index 6) of 'senior_citizens' and store it in a variable called 'working_hours_sum'\n",
    "working_hour = new_data[:,6]\n",
    "working_hours_sum = np.sum(working_hour[age>60])\n",
    "\n",
    "print(\"Total Working hours of senior citizens:\", np.sum(working_hour[age>60]))"
   ]
  },
  {
   "cell_type": "code",
   "execution_count": 23,
   "metadata": {},
   "outputs": [
    {
     "name": "stdout",
     "output_type": "stream",
     "text": [
      "61\n"
     ]
    }
   ],
   "source": [
    "# Find the length of 'senior_citizens' and store it in a variable called 'senior_citizens_len'\n",
    "senior_citizens_len = len(senior_citizens)\n",
    "print(senior_citizens_len)"
   ]
  },
  {
   "cell_type": "code",
   "execution_count": 24,
   "metadata": {},
   "outputs": [
    {
     "name": "stdout",
     "output_type": "stream",
     "text": [
      "31.42622950819672\n"
     ]
    }
   ],
   "source": [
    "# Finally find the average working hours of the senior citizens by dividing 'working_hours_sum' by 'senior_citizens_len' and store it in a variable called 'avg_working hours'.\n",
    "avg_working_hours = working_hours_sum/senior_citizens_len\n",
    "print(avg_working_hours)"
   ]
  },
  {
   "cell_type": "code",
   "execution_count": 25,
   "metadata": {},
   "outputs": [
    {
     "name": "stdout",
     "output_type": "stream",
     "text": [
      "Govt policy is not followed\n"
     ]
    }
   ],
   "source": [
    "# Print 'avg_working_hours' and see if the govt. policy is followed.\n",
    "if avg_working_hours <=25:\n",
    "    print(\"Govt policy is followed\")\n",
    "else:\n",
    "    print(\"Govt policy is not followed\")"
   ]
  },
  {
   "cell_type": "markdown",
   "metadata": {},
   "source": [
    "# Step 6: Let's check that higher educated people have better pay in general."
   ]
  },
  {
   "cell_type": "code",
   "execution_count": 26,
   "metadata": {},
   "outputs": [
    {
     "name": "stdout",
     "output_type": "stream",
     "text": [
      "[13. 13. 13. 14. 14. 13. 13. 13. 12. 11. 14. 16. 13. 12. 13. 12. 13. 13.\n",
      " 13. 14. 11. 11. 15. 13. 11. 13. 16. 13. 13. 12. 13. 14. 16. 11. 13. 16.\n",
      " 12. 14. 13. 14. 13. 15. 11. 13. 13. 13. 13. 12. 12. 13. 12. 14. 11. 11.\n",
      " 13. 13. 13. 14. 14. 12. 14. 11. 13. 13. 13. 13. 13. 14. 16. 13. 13. 14.\n",
      " 14. 14. 13. 13. 13. 12. 13. 13. 11. 15. 13. 14. 13. 12. 12. 15. 13. 11.\n",
      " 13. 13. 14. 14. 13. 12. 13. 14. 15. 13. 13. 13. 13. 13. 14. 13. 12. 12.\n",
      " 12. 13. 14. 13. 14. 11. 13. 11. 14. 12. 11. 13. 11. 12. 13. 13. 13. 13.\n",
      " 11. 14. 13. 13. 12. 13. 11. 14. 13. 12. 13. 13. 13. 13. 11. 14. 16. 13.\n",
      " 14. 14. 13. 12. 14. 13. 12. 11. 12. 13. 13. 14. 13. 11. 13. 12. 13. 13.\n",
      " 13. 12. 13. 13. 13. 11. 11. 11. 13. 13. 13. 14. 12. 15. 11. 13. 16. 11.\n",
      " 13. 13. 13. 14. 14. 11. 16. 13. 12. 13. 13. 13. 13. 13. 15. 13. 13. 12.\n",
      " 14. 14. 13. 13. 13. 15. 13. 11. 13. 13. 13. 13. 16. 16. 13. 16. 14. 14.\n",
      " 12. 13. 11. 13. 14. 13. 12. 14. 14. 13. 13. 13. 16. 13. 13. 13. 11. 13.\n",
      " 13. 13. 13. 13. 11. 11. 13. 13. 14. 11. 13. 13. 13. 13. 11. 13. 16. 13.\n",
      " 13. 11. 11. 14. 13. 11. 11. 13. 11. 13. 14. 13. 12. 14. 13. 13. 11. 11.\n",
      " 14. 11. 13. 13. 13. 13. 13. 13. 14. 11. 13. 16. 13. 13. 13. 13. 14. 13.\n",
      " 13. 11. 13. 13. 13. 11. 13. 11. 13. 15. 14. 13. 13. 12. 13. 13. 14. 14.\n",
      " 14. 15. 13. 12. 13. 14. 13. 12. 13. 13. 11. 13. 13. 14. 12. 11. 13. 11.\n",
      " 14. 13. 13.]\n",
      "[ 9.  7.  5.  9. 10.  4.  9.  9.  7.  9.  5.  7.  9.  9. 10.  9.  9. 10.\n",
      " 10. 10.  7. 10.  9. 10.  5.  9.  9.  9. 10.  9.  9. 10.  3.  9.  9.  4.\n",
      "  9. 10.  9. 10.  9. 10. 10. 10. 10. 10.  9.  6.  7.  4.  9.  9.  9.  9.\n",
      "  9.  9.  5. 10. 10.  9. 10. 10.  9. 10.  9.  9.  6.  7.  9.  9.  9. 10.\n",
      "  9.  5. 10. 10.  9. 10. 10. 10.  9. 10.  9.  9.  9. 10. 10.  9. 10. 10.\n",
      " 10.  9. 10.  9.  7. 10. 10.  9.  9.  9.  9. 10.  9.  2.  9.  9. 10.  7.\n",
      "  9.  9. 10.  9.  9.  9.  9. 10. 10. 10.  4. 10.  9. 10. 10. 10.  3. 10.\n",
      "  9.  9. 10.  9.  7.  9.  9.  7.  9.  9. 10.  9.  4.  6. 10.  2.  9.  9.\n",
      "  1.  9.  6.  9.  9.  7.  9. 10. 10.  9. 10.  9.  9. 10. 10.  9.  9.  9.\n",
      "  9.  6. 10. 10.  9.  9.  9.  4.  9.  7. 10.  7. 10. 10.  9.  9.  9.  5.\n",
      "  9.  9. 10. 10. 10. 10. 10.  9. 10.  4.  9. 10.  9.  9.  9. 10.  9.  9.\n",
      " 10.  9. 10. 10. 10. 10. 10.  3. 10.  9.  9. 10.  9.  7.  9. 10.  9.  9.\n",
      " 10.  6.  9.  3.  9.  9.  9.  9.  9. 10.  7.  9.  7.  9.  7.  9.  5.  6.\n",
      "  9.  9. 10.  9. 10.  7.  9.  9. 10.  9. 10.  9.  9.  3. 10. 10. 10.  9.\n",
      "  9. 10. 10.  9.  9.  9. 10. 10.  9. 10. 10.  4.  9.  9. 10. 10. 10.  9.\n",
      " 10. 10.  8.  2.  7.  7.  9. 10.  7.  9.  6.  9.  9.  9.  9.  7. 10.  9.\n",
      " 10. 10. 10.  9.  9. 10.  5. 10.  9.  9.  9.  7.  9. 10.  9.  9.  9. 10.\n",
      "  9. 10.  9.  2.  9.  9. 10. 10. 10.  9.  9.  5. 10.  6.  9. 10.  9.  8.\n",
      " 10.  2.  9.  9.  9.  9.  9. 10.  3. 10.  9.  9.  9. 10. 10. 10. 10.  9.\n",
      "  9.  3. 10.  9. 10. 10. 10.  9. 10. 10. 10. 10. 10.  9.  7.  9.  9.  8.\n",
      "  2.  9. 10. 10.  9. 10.  9.  6. 10.  9. 10. 10.  9.  7.  9.  7.  9.  9.\n",
      "  9.  7. 10.  9.  9.  4.  9.  9.  9.  7.  8. 10. 10.  9.  9.  9. 10. 10.\n",
      "  7.  6.  9.  9.  4.  9. 10. 10. 10.  4.  5.  9.  9.  9.  6.  9.  9.  9.\n",
      "  9.  9.  7.  5.  5.  9.  9.  9. 10. 10.  6. 10.  9.  9.  3.  9.  9. 10.\n",
      " 10. 10.  9.  9.  9. 10.  9. 10.  9. 10.  5.  9.  4.  9.  8. 10. 10. 10.\n",
      "  9.  7.  5. 10.  7.  7.  9.  9.  8. 10.  9.  9.  9.  9. 10.  7.  9.  4.\n",
      "  9. 10. 10. 10. 10.  9. 10. 10.  8. 10.  9.  7. 10.  9.  9.  9. 10.  9.\n",
      "  9.  9.  9. 10.  9.  7. 10. 10. 10. 10. 10.  9. 10.  9.  8.  9. 10.  7.\n",
      "  6.  9.  9.  9.  9.  9.  9.  9.  9.  6. 10. 10.  9. 10.  3.  9.  9. 10.\n",
      " 10. 10. 10. 10.  9.  8.  9.  9. 10.  9.  9. 10.  9.  9.  9.  7.  9.  7.\n",
      "  9.  9.  9. 10. 10. 10.  6.  9. 10.  9.  9.  9.  9.  9.  9.  9. 10.  7.\n",
      " 10. 10.  9.  7.  9.  9.  9.  7. 10. 10.  9. 10.  9.  9.  9.  9.  9.  9.\n",
      "  7.  9.  7. 10.  9. 10.  6.  7. 10. 10.  3.  9.  9.  9.  5.  9. 10. 10.\n",
      " 10.  9. 10. 10.  9.  4.  5.  9.  9.  9. 10.  9. 10.  9. 10.  6. 10.  9.\n",
      "  9.  9. 10. 10. 10.  3. 10.  9.  9.  9. 10.  2.  9. 10.  1.  9.  7.  9.\n",
      "  9.  9.  9.  9.  9. 10. 10. 10. 10.  9.  4.  9. 10.  6. 10.  6. 10.  9.\n",
      "  6.  9.  9. 10.  9.  9.  9.  9. 10. 10.  9.  9.  9.  9.  9.  9.  9.  9.\n",
      "  9. 10.  9.  9.  9.  9. 10.  9.]\n"
     ]
    }
   ],
   "source": [
    "# Create two new subset arrays called 'high' and 'low' by filtering 'census' according to education-num>10 and education-num<=10\n",
    "edu = new_data[:,1]\n",
    "high = edu[edu>10]\n",
    "low = edu[edu<=10]\n",
    "print(high)\n",
    "print(low)"
   ]
  },
  {
   "cell_type": "code",
   "execution_count": 27,
   "metadata": {},
   "outputs": [
    {
     "name": "stdout",
     "output_type": "stream",
     "text": [
      "327\n",
      "674\n"
     ]
    }
   ],
   "source": [
    "print(len(high))\n",
    "print(len(low))"
   ]
  },
  {
   "cell_type": "code",
   "execution_count": 28,
   "metadata": {},
   "outputs": [
    {
     "name": "stdout",
     "output_type": "stream",
     "text": [
      "0.42813455657492355\n",
      "0.13649851632047477\n"
     ]
    }
   ],
   "source": [
    "# Find the mean of income column(income is the column with index 7) of 'high' array and store it in 'avg_pay_high'. Do the same for 'low' array and store it's mean in 'avg_pay_low'.\n",
    "income = new_data[:,7]\n",
    "avg_pay_high = np.mean(income[edu>10])\n",
    "print(avg_pay_high)\n",
    "avg_pay_low = np.mean(income[edu<=10])\n",
    "print(avg_pay_low)"
   ]
  },
  {
   "cell_type": "code",
   "execution_count": null,
   "metadata": {},
   "outputs": [],
   "source": []
  }
 ],
 "metadata": {
  "kernelspec": {
   "display_name": "Python 3",
   "language": "python",
   "name": "python3"
  },
  "language_info": {
   "codemirror_mode": {
    "name": "ipython",
    "version": 3
   },
   "file_extension": ".py",
   "mimetype": "text/x-python",
   "name": "python",
   "nbconvert_exporter": "python",
   "pygments_lexer": "ipython3",
   "version": "3.7.6"
  }
 },
 "nbformat": 4,
 "nbformat_minor": 4
}
